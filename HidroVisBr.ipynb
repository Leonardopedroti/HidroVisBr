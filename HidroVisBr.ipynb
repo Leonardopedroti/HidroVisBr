{
  "nbformat": 4,
  "nbformat_minor": 0,
  "metadata": {
    "colab": {
      "provenance": [],
      "mount_file_id": "1LtUN9W0gK7X9Tce7lkf3rms8oIjiYbEz",
      "authorship_tag": "ABX9TyMhiV/JO8n1NoxkHIvnuK+y",
      "include_colab_link": true
    },
    "kernelspec": {
      "name": "python3",
      "display_name": "Python 3"
    },
    "language_info": {
      "name": "python"
    }
  },
  "cells": [
    {
      "cell_type": "markdown",
      "metadata": {
        "id": "view-in-github",
        "colab_type": "text"
      },
      "source": [
        "<a href=\"https://colab.research.google.com/github/Leonardopedroti/HidroVisBr/blob/main/HidroVisBr.ipynb\" target=\"_parent\"><img src=\"https://colab.research.google.com/assets/colab-badge.svg\" alt=\"Open In Colab\"/></a>"
      ]
    },
    {
      "cell_type": "code",
      "source": [
        "import subprocess\n",
        "\n",
        "# Função para instalar um pacote Python se não estiver instalado\n",
        "def install_package(Hidrovis):\n",
        "    try:\n",
        "        import importlib\n",
        "        importlib.import_module(Hidrovis)\n",
        "    except ImportError:\n",
        "        subprocess.check_call(['pip', 'install', Hidrovis])\n",
        "\n",
        "# Lista de pacotes a serem instalados\n",
        "packages_to_install = [\"geopandas\", \"geosphere\", \"folium\", \"leaflet\"]\n",
        "\n",
        "# Instalar pacotes se não estiverem instalados\n",
        "for package in packages_to_install:\n",
        "    install_package(package)"
      ],
      "metadata": {
        "id": "4INhE_owW5Mb"
      },
      "execution_count": 27,
      "outputs": []
    },
    {
      "cell_type": "code",
      "source": [
        "!pip install folium"
      ],
      "metadata": {
        "id": "McoxHa3vbgbt"
      },
      "execution_count": null,
      "outputs": []
    },
    {
      "cell_type": "code",
      "source": [
        "# Carregamento dos pacotes\n",
        "import geopandas\n",
        "import geosphere\n",
        "import folium\n",
        "import leaflet"
      ],
      "metadata": {
        "id": "J6GliEvKaONy"
      },
      "execution_count": 28,
      "outputs": []
    },
    {
      "cell_type": "code",
      "source": [
        "import subprocess\n",
        "\n",
        "# Função para executar um script R\n",
        "def run_r_script(Hidrovis):\n",
        "    try:\n",
        "        subprocess.check_call(['Rscript', Hidrovis])\n",
        "    except subprocess.CalledProcessError as e:\n",
        "        print(f\"Erro ao executar {Hidrovis}: {e}\")\n",
        "    except FileNotFoundError:\n",
        "        print(f\"Script R não encontrado: {Hidrovis}\")\n",
        "\n",
        "# Lista de scripts R a serem executados\n",
        "scripts_to_run = [\n",
        "    \"./R/circle_coords.R\",\n",
        "    \"./R/hexagon_coords.R\",\n",
        "    \"./R/square_coords.R\",\n",
        "    \"./R/make_polygon.R\",\n",
        "    \"./R/select_area.R\"\n",
        "]\n",
        "\n",
        "# Executar scripts R\n",
        "for script in scripts_to_run:\n",
        "    run_r_script(script)\n"
      ],
      "metadata": {
        "colab": {
          "base_uri": "https://localhost:8080/"
        },
        "id": "TH74xAc6cA6g",
        "outputId": "167bb81d-a2cc-4046-c1ef-4d6a2b64c536"
      },
      "execution_count": 29,
      "outputs": [
        {
          "output_type": "stream",
          "name": "stdout",
          "text": [
            "Erro ao executar ./R/circle_coords.R: Command '['Rscript', './R/circle_coords.R']' returned non-zero exit status 2.\n",
            "Erro ao executar ./R/hexagon_coords.R: Command '['Rscript', './R/hexagon_coords.R']' returned non-zero exit status 2.\n",
            "Erro ao executar ./R/square_coords.R: Command '['Rscript', './R/square_coords.R']' returned non-zero exit status 2.\n",
            "Erro ao executar ./R/make_polygon.R: Command '['Rscript', './R/make_polygon.R']' returned non-zero exit status 2.\n",
            "Erro ao executar ./R/select_area.R: Command '['Rscript', './R/select_area.R']' returned non-zero exit status 2.\n"
          ]
        }
      ]
    }
  ]
}