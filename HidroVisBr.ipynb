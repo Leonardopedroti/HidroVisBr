{
  "nbformat": 4,
  "nbformat_minor": 0,
  "metadata": {
    "colab": {
      "provenance": [],
      "mount_file_id": "1LtUN9W0gK7X9Tce7lkf3rms8oIjiYbEz",
      "authorship_tag": "ABX9TyOq1n+2CDsu58YWcKXYS72L",
      "include_colab_link": true
    },
    "kernelspec": {
      "name": "python3",
      "display_name": "Python 3"
    },
    "language_info": {
      "name": "python"
    }
  },
  "cells": [
    {
      "cell_type": "markdown",
      "metadata": {
        "id": "view-in-github",
        "colab_type": "text"
      },
      "source": [
        "<a href=\"https://colab.research.google.com/github/Leonardopedroti/HidroVisBr/blob/main/HidroVisBr.ipynb\" target=\"_parent\"><img src=\"https://colab.research.google.com/assets/colab-badge.svg\" alt=\"Open In Colab\"/></a>"
      ]
    },
    {
      "cell_type": "code",
      "source": [
        "from setuptools import setup, find_packages\n",
        "setup(name='HidroVisBr',\n",
        "      version='0.1',\n",
        "      url='https://github.com/Leonardopedroti/HidroVisBr.git',\n",
        "      license='MIT',\n",
        "      author='Leonardo Pedrotti',\n",
        "      author_email='leonardopedroti@gmail.com',\n",
        "      description='Add static script_dir() method to Path',\n",
        "      packages=find_packages(exclude=['tests']),\n",
        "      long_description=open('README.md').read(),\n",
        "      zip_safe=False)"
      ],
      "metadata": {
        "id": "luUjHk8YWC2G"
      },
      "execution_count": null,
      "outputs": []
    }
  ]
}